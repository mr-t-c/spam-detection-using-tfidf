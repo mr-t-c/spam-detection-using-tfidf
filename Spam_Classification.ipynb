{
  "cells": [
    {
      "cell_type": "markdown",
      "metadata": {},
      "source": [
        "# Spam Classification using \"spam-or-not-spam-dataset\"\n",
        "\n",
        "This notebook downloads and trains a spam detection model, evaluates it, and allows for manual message classification input.\n",
        "\n",
        "Author: Tanish Chawla  \n"
      ]
    },
    {
      "cell_type": "code",
      "execution_count": null,
      "metadata": {},
      "outputs": [],
      "source": [
        "# 1. Install Required Packages\n",
        "!pip install kagglehub --quiet\n",
        "!pip install pandas scikit-learn matplotlib seaborn --quiet"
      ]
    },
    {
      "cell_type": "code",
      "execution_count": null,
      "metadata": {},
      "outputs": [],
      "source": [
        "# 2. Import Libraries\n",
        "import kagglehub\n",
        "import pandas as pd\n",
        "import numpy as np\n",
        "import os\n",
        "import matplotlib.pyplot as plt\n",
        "import seaborn as sns\n",
        "\n",
        "from sklearn.model_selection import train_test_split\n",
        "from sklearn.feature_extraction.text import TfidfVectorizer\n",
        "from sklearn.naive_bayes import MultinomialNB\n",
        "from sklearn.metrics import accuracy_score, classification_report, confusion_matrix\n",
        "from sklearn.preprocessing import LabelEncoder"
      ]
    },
    {
      "cell_type": "code",
      "execution_count": null,
      "metadata": {},
      "outputs": [],
      "source": [
        "# 3. Download & Inspect Dataset\n",
        "path = kagglehub.dataset_download(\"ozlerhakan/spam-or-not-spam-dataset\")\n",
        "print(\"Dataset directory:\", path)\n",
        "print(\"Files available:\", os.listdir(path))"
      ]
    },
    {
      "cell_type": "code",
      "execution_count": null,
      "metadata": {},
      "outputs": [],
      "source": [
        "# 4. Load CSV Data\n",
        "csv_file = [f for f in os.listdir(path) if f.endswith('.csv')][0]\n",
        "df = pd.read_csv(os.path.join(path, csv_file))\n",
        "df.head()"
      ]
    },
    {
      "cell_type": "code",
      "execution_count": null,
      "metadata": {},
      "outputs": [],
      "source": [
        "# 5. Explore Dataset\n",
        "print(\"Shape:\", df.shape)\n",
        "print(\"Columns:\", df.columns)\n",
        "print(df['label'].value_counts())"
      ]
    },
    {
      "cell_type": "code",
      "execution_count": null,
      "metadata": {},
      "outputs": [],
      "source": [
        "# 6. Visualize Label Distribution\n",
        "df['label'].value_counts().plot(kind='bar')\n",
        "plt.title('Label Distribution (Ham vs Spam)')\n",
        "plt.xlabel('Label')\n",
        "plt.ylabel('Count')\n",
        "plt.show()"
      ]
    },
    {
      "cell_type": "code",
      "execution_count": null,
      "metadata": {},
      "outputs": [],
      "source": [
        "# 7. Prepare Features and Encode Labels (Handle Missing Data)\n",
        "X = df['email'].fillna('')  # Fill NaN with empty string\n",
        "y = df['label']\n",
        "\n",
        "le = LabelEncoder()\n",
        "y_encoded = le.fit_transform(y)  # 0 = Not Spam, 1 = Spam"
      ]
    },
    {
      "cell_type": "code",
      "execution_count": null,
      "metadata": {},
      "outputs": [],
      "source": [
        "# 8. Split Dataset for Training and Testing\n",
        "X_train, X_test, y_train, y_test = train_test_split(\n",
        "    X, y_encoded, test_size=0.2, random_state=42, stratify=y_encoded\n",
        ")"
      ]
    },
    {
      "cell_type": "code",
      "execution_count": null,
      "metadata": {},
      "outputs": [],
      "source": [
        "# 9. Vectorize Text Data (TF-IDF)\n",
        "vectorizer = TfidfVectorizer(stop_words='english', max_df=0.95)\n",
        "X_train_vec = vectorizer.fit_transform(X_train)\n",
        "X_test_vec = vectorizer.transform(X_test)"
      ]
    },
    {
      "cell_type": "code",
      "execution_count": null,
      "metadata": {},
      "outputs": [],
      "source": [
        "# 10. Train Multinomial Naive Bayes Classifier\n",
        "clf = MultinomialNB()\n",
        "clf.fit(X_train_vec, y_train)"
      ]
    },
    {
      "cell_type": "code",
      "execution_count": null,
      "metadata": {},
      "outputs": [],
      "source": [
        "# 11. Evaluate the Model\n",
        "y_pred = clf.predict(X_test_vec)\n",
        "print(\"Accuracy:\", accuracy_score(y_test, y_pred))\n",
        "\n",
        "# Using digits as class names with 0 = Not Spam, 1 = Spam\n",
        "print(\"\\nClassification Report:\\n\", classification_report(y_test, y_pred, target_names=['0', '1']))\n",
        "print(\"NOTE: In this classification, '0' means Not Spam, '1' means Spam.\")"
      ]
    },
    {
      "cell_type": "code",
      "execution_count": null,
      "metadata": {},
      "outputs": [],
      "source": [
        "# 12. Plot Confusion Matrix\n",
        "cm = confusion_matrix(y_test, y_pred)\n",
        "sns.heatmap(cm, annot=True, fmt='d', cmap='Blues', xticklabels=['0', '1'], yticklabels=['0', '1'])\n",
        "plt.xlabel('Predicted')\n",
        "plt.ylabel('Actual')\n",
        "plt.title('Confusion Matrix\\n(Note: 0 = Not Spam, 1 = Spam)')\n",
        "plt.show()"
      ]
    },
    {
      "cell_type": "code",
      "execution_count": null,
      "metadata": {},
      "outputs": [],
      "source": [
        "# 13. Predict on User Input\n",
        "\n",
        "def predict_spam(message):\n",
        "    message_vec = vectorizer.transform([message])\n",
        "    pred = clf.predict(message_vec)[0]\n",
        "    label_map = {0: \"Not Spam (0)\", 1: \"Spam (1)\"}\n",
        "    return label_map[pred]\n",
        "\n",
        "user_message = input(\"Enter your email/message text to classify: \")\n",
        "prediction = predict_spam(user_message)\n",
        "print(f\"Prediction: {prediction}\")"
      ]
    },
    {
      "cell_type": "markdown",
      "metadata": {},
      "source": [
        "### Optional: Sample Test Cases\n",
        "Run this cell to test with multiple predefined messages."
      ]
    },
    {
      "cell_type": "code",
      "execution_count": null,
      "metadata": {},
      "outputs": [],
      "source": [
        "test_messages = [\n",
        "    \"Congratulations! You have won a free iPhone. Click here to claim now!!!\",\n",
        "    \"Hi, just checking in about the meeting tomorrow at 10am.\",\n",
        "    \"Get cheap loans at 0% interest! Limited offer for today only.\",\n",
        "    \"Dear customer, your package will arrive tomorrow.\",\n",
        "    \"URGENT! Your account has been compromised, reset your password immediately\",\n",
        "    \"Can you send me the report by end of day? Thanks!\",\n",
        "    \"WIN big prizes by entering our sweepstakes. Enter now!\",\n",
        "    \"Your invoice for last month is attached.\",\n",
        "    \"Don't miss out!!! Exclusive discount on all products, limited time offer.\",\n",
        "    \"Let's catch up for lunch next week.\"\n",
        "]\n",
        "\n",
        "for msg in test_messages:\n",
        "    print(f\"Message: {msg}\")\n",
        "    print(f\"Prediction: {predict_spam(msg)}\\n\")"
      ]
    }
  ],
  "metadata": {
    "colab": {
      "name": "Spam_Classification.ipynb",
      "provenance": [],
      "collapsed_sections": [],
      "authorship_tag": "ABX9TyRCdfASMM1uY+Ui4Hot8Fim",
      "include_colab_link": true
    },
    "kernelspec": {
      "name": "python3",
      "display_name": "Python 3"
    },
    "language_info": {
      "name": "python",
      "version": "3.11"
    }
  },
  "nbformat": 4,
  "nbformat_minor": 0
}
